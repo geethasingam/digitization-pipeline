{
 "cells": [
  {
   "cell_type": "markdown",
   "metadata": {},
   "source": [
    "**Purpose**: This script will read list of optimized pdfs, create a parent folder and all the sub folders and put it in the subfolders."
   ]
  },
  {
   "cell_type": "code",
   "execution_count": 100,
   "metadata": {
    "collapsed": true
   },
   "outputs": [],
   "source": [
    "# -*- coding: utf-8 -*-\n",
    "import os\n",
    "import glob\n",
    "from shutil import copyfile"
   ]
  },
  {
   "cell_type": "code",
   "execution_count": 101,
   "metadata": {
    "collapsed": true
   },
   "outputs": [],
   "source": [
    "batch_folder = \"/home/nat/Desktop/sample_pdfs\""
   ]
  },
  {
   "cell_type": "code",
   "execution_count": 102,
   "metadata": {
    "collapsed": true
   },
   "outputs": [],
   "source": [
    "def calculate_folder_num(noolaham_id):\n",
    "    noolaham_id = int(noolaham_id)\n",
    "    folder_id = (noolaham_id//100) + 1\n",
    "    folder_id = str(folder_id).zfill(2)\n",
    "    return folder_id"
   ]
  },
  {
   "cell_type": "code",
   "execution_count": 103,
   "metadata": {
    "collapsed": true
   },
   "outputs": [],
   "source": [
    "pdf_file_name = os.listdir(batch_folder)[0]\n",
    "noolaham_id = os.path.splitext(pdf_file_name)[0]\n",
    "folder_id = calculate_folder_num(noolaham_id)\n",
    "\n",
    "# Create batch_folder\n",
    "if not os.path.exists(batch_folder + \"/\" + folder_id):\n",
    "    os.makedirs(batch_folder + \"/\" + folder_id)"
   ]
  },
  {
   "cell_type": "code",
   "execution_count": 104,
   "metadata": {},
   "outputs": [
    {
     "name": "stdout",
     "output_type": "stream",
     "text": [
      "processing 92899\n",
      "processing 92808\n",
      "processing 92809\n",
      "processing 92850\n",
      "Total files processed: 4\n"
     ]
    }
   ],
   "source": [
    "pdf_count = 0\n",
    "for pdf_path in glob.glob(batch_folder + \"/*.pdf\"):\n",
    "    noolaham_id = os.path.splitext(os.path.basename(pdf_path))[0]\n",
    "    print(\"processing \" + noolaham_id)\n",
    "    pdf_in_folder_path = batch_folder + \"/\" + folder_id + \"/\" + noolaham_id + \"/\" + noolaham_id + \".pdf\"\n",
    "    \n",
    "    # Create folder\n",
    "    if not os.path.exists(batch_folder + \"/\" + folder_id + \"/\" + noolaham_id):\n",
    "        os.makedirs(batch_folder + \"/\" + folder_id + \"/\" + noolaham_id)\n",
    "        \n",
    "    ## Copy pdf\n",
    "    copyfile(pdf_path, pdf_in_folder_path)\n",
    "    pdf_count = pdf_count + 1\n",
    "    \n",
    "print(\"Total files processed: \" + str(pdf_count))"
   ]
  },
  {
   "cell_type": "code",
   "execution_count": null,
   "metadata": {
    "collapsed": true
   },
   "outputs": [],
   "source": []
  },
  {
   "cell_type": "code",
   "execution_count": null,
   "metadata": {
    "collapsed": true
   },
   "outputs": [],
   "source": []
  }
 ],
 "metadata": {
  "kernelspec": {
   "display_name": "Python 3",
   "language": "python",
   "name": "python3"
  },
  "language_info": {
   "codemirror_mode": {
    "name": "ipython",
    "version": 3
   },
   "file_extension": ".py",
   "mimetype": "text/x-python",
   "name": "python",
   "nbconvert_exporter": "python",
   "pygments_lexer": "ipython3",
   "version": "3.6.3"
  }
 },
 "nbformat": 4,
 "nbformat_minor": 2
}
