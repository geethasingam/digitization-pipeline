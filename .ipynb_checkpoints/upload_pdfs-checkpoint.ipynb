{
 "cells": [
  {
   "cell_type": "markdown",
   "metadata": {},
   "source": [
    "**Purpose**: Upload pdf and JPG files to ftp"
   ]
  },
  {
   "cell_type": "code",
   "execution_count": 1,
   "metadata": {
    "collapsed": true
   },
   "outputs": [],
   "source": [
    "# -*- coding: utf-8 -*-\n",
    "import os\n",
    "import ftplib"
   ]
  },
  {
   "cell_type": "code",
   "execution_count": 2,
   "metadata": {
    "collapsed": true
   },
   "outputs": [],
   "source": [
    "batch_folder = \"/home/nat/Desktop/sample_pdfs/929\"\n",
    "folder_id = \"929\""
   ]
  },
  {
   "cell_type": "code",
   "execution_count": 3,
   "metadata": {
    "collapsed": true
   },
   "outputs": [],
   "source": [
    "def create_cover_image(pdf_path_folder, noolaham_id):\n",
    "    command = \"convert -strip \" + pdf_path_folder + \"/\" + noolaham_id  + \".pdf[0] \" + pdf_path_folder + \"/\" + noolaham_id  + \".JPG\"\n",
    "    print(command)\n",
    "    os.system(command)"
   ]
  },
  {
   "cell_type": "code",
   "execution_count": 4,
   "metadata": {
    "collapsed": true
   },
   "outputs": [],
   "source": [
    "# Uploads the html file to the noolaham server\n",
    "def uploadToServer(i_session, ftp_folder, source_path_folder, noolaham_id, i_file):\n",
    "    print (\"Uploading file: \" + i_file)\n",
    "\n",
    "    i_session.cwd(ftp_folder)\n",
    "    if noolaham_id in i_session.nlst() : #check if 'foo' exist inside 'www'\n",
    "        print (ftp_folder + \"/\" +  noolaham_id + \" exists\")\n",
    "    else :\n",
    "        print (ftp_folder + \"/\" +  noolaham_id + \" does not exists\")\n",
    "        i_session.mkd(noolaham_id)\n",
    "\n",
    "    i_session.cwd(noolaham_id)\n",
    "\n",
    "    os.chdir(source_path_folder)\n",
    "    file = open(i_file,'rb')                  \t\t# file to send\n",
    "    print(\"ss\" + source_path_folder)\n",
    "    i_session.storbinary('STOR ' + i_file, file)     \t# send the file\n",
    "    file.close()\n",
    "    return\n",
    "\n",
    "# Check if directory exists (in current location)\n",
    "def directory_exists(i_session, dir):\n",
    "    filelist = []\n",
    "    i_session.retrlines('LIST',filelist.append)\n",
    "    for f in filelist:\n",
    "        if f.split()[-1] == dir and f.upper().startswith('D'):\n",
    "            return True\n",
    "    return False"
   ]
  },
  {
   "cell_type": "code",
   "execution_count": null,
   "metadata": {},
   "outputs": [],
   "source": [
    "session = ftplib.FTP('ftphost','ftpnamet','ftpuser')"
   ]
  },
  {
   "cell_type": "code",
   "execution_count": null,
   "metadata": {},
   "outputs": [],
   "source": [
    "for folder_path in sorted(os.listdir(batch_folder)):\n",
    "    noolaham_id = os.path.splitext(folder_path)[0]\n",
    "    source_path_folder = batch_folder + \"/\" + folder_path\n",
    "    create_cover_image(source_path_folder, noolaham_id)\n",
    "    ftp_folder = \"/project/\" + folder_id\n",
    "    print(source_path_folder)\n",
    "    uploadToServer(session, ftp_folder, source_path_folder, noolaham_id, noolaham_id + \".pdf\")\n",
    "    uploadToServer(session, ftp_folder, source_path_folder, noolaham_id, noolaham_id + \".JPG\")\n",
    "    "
   ]
  },
  {
   "cell_type": "code",
   "execution_count": null,
   "metadata": {
    "collapsed": true
   },
   "outputs": [],
   "source": []
  }
 ],
 "metadata": {
  "kernelspec": {
   "display_name": "Python 3",
   "language": "python",
   "name": "python3"
  },
  "language_info": {
   "codemirror_mode": {
    "name": "ipython",
    "version": 3
   },
   "file_extension": ".py",
   "mimetype": "text/x-python",
   "name": "python",
   "nbconvert_exporter": "python",
   "pygments_lexer": "ipython3",
   "version": "3.6.3"
  }
 },
 "nbformat": 4,
 "nbformat_minor": 2
}
